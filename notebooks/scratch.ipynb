{
 "cells": [
  {
   "cell_type": "code",
   "execution_count": 60,
   "id": "flush-thinking",
   "metadata": {},
   "outputs": [],
   "source": [
    "import numpy as np"
   ]
  },
  {
   "cell_type": "code",
   "execution_count": 61,
   "id": "initial-program",
   "metadata": {},
   "outputs": [],
   "source": [
    "def N2solHamme(S,T):\n",
    "    \n",
    "    '''\n",
    "    # constants from Table 4 of Hamme and Emerson 2004\n",
    "    Coef. Ne (nmol/kg) N2 (umol/kg) Ar (umol/kg)\n",
    "    A0 2.18156 6.42931 2.79150\n",
    "    A1 1.29108 2.92704 3.17609\n",
    "    A2 2.12504 4.32531 4.13116\n",
    "    A3 0 4.69149 4.90379\n",
    "    B0 -5.94737E-3 -7.44129E-3 -6.96233E-3\n",
    "    B1 -5.13896E-3 -8.02566E-3 -7.66670E-3\n",
    "    B2 0 -1.46775E-2 -1.16888E-2\n",
    "    Check: 7.34121 500.885 13.4622\n",
    "    check values at temperature of 10 C and salinity of 35 (PSS)\n",
    "    '''\n",
    "    \n",
    "    rho_ref = 1.026 # g/cm3 (approx. at 15 C)\n",
    "\n",
    "    A0 = 6.42931\n",
    "    A1 = 2.92704\n",
    "    A2 = 4.32531\n",
    "    A3 = 4.69149\n",
    "    B0 = -7.44129E-3\n",
    "    B1 = -8.02566E-3\n",
    "    B2 = -1.46775E-2\n",
    "    \n",
    "    #ln C = A0 + A1*Ts + A2*Ts^2 + A3*Ts^3 + S (B0 + B1 * Ts + B2 * Ts^2)\n",
    "    #Ts = ln((298.15 - t)/(273.15 + t)\n",
    "    \n",
    "    T_scaled = np.log((298.15 - T) /(273.15 + T))\n",
    "    return np.exp(A0 + A1*T_scaled + A2*T_scaled**2. + A3*T_scaled**3. + \\\n",
    "                  S*(B0 + B1*T_scaled + B2*T_scaled**2.)) * rho_ref # convert to mmol/m^3/atm"
   ]
  },
  {
   "cell_type": "code",
   "execution_count": 62,
   "id": "bibliographic-sociology",
   "metadata": {},
   "outputs": [
    {
     "data": {
      "text/plain": [
       "513.9082427053758"
      ]
     },
     "execution_count": 62,
     "metadata": {},
     "output_type": "execute_result"
    }
   ],
   "source": [
    "N2solHamme(35,10)"
   ]
  },
  {
   "cell_type": "code",
   "execution_count": 63,
   "id": "mathematical-columbia",
   "metadata": {},
   "outputs": [],
   "source": [
    "def N2solWeiss(S,T):\n",
    "    '''\n",
    "    Solubility of N2 in sea water\n",
    "    INPUT:  \n",
    "    S = salinity    [PSS]\n",
    "    T = temperature [degree C]\n",
    "    \n",
    "    conc = solubility of N2 [mmol/m^3/atm]\n",
    "    \n",
    "    REFERENCE:\n",
    "    Weiss, 1970.\n",
    "    \"The solubility of nitrogen, oxygen and argon in water and seawater\"\n",
    "    Deep-sea Research, 17, pp. 721-735.\n",
    "    '''\n",
    "    \n",
    "    # T is absolute T\n",
    "    Tabs = 275.15 + T\n",
    "    \n",
    "    rho_ref = 1.026 # g/cm3 (approx. at 15 C)\n",
    "\n",
    "    \n",
    "    # these are coeffs or Bunsen solubility coeff:\n",
    "    #A1 = -59.6274\n",
    "    #A2 = 85.7661\n",
    "    #A3 = 24.3696\n",
    "    #B1 = -0.051580\n",
    "    #B2 = 0.026329\n",
    "    #B3 = -0.0037252\n",
    "\n",
    "    #N2_sol_an = np.log(A1 + A2*(100.0/T) + S*(B1 + B2*(T/100.0) + B3*((T/100.0)**2)))\n",
    "    #units_ml_kg__umol_kg = 1.0/0.022391\n",
    "    #N2_sol = N2_sol_an*units_ml_kg__umol_kg\n",
    "    #return _umolkg_to_mmolm3(N2_sol)\n",
    "\n",
    "    # this looks like the equation for Bunsen solubility coeff, but should be np.exp not np.log, also missing A3 term and unit conversion:\n",
    "    #return np.log(A1 + A2*(100.0/T) + S*(B1 + B2*(T/100.0) + B3*((T/100.0)**2)))\n",
    "    \n",
    "    # these are coeffs and equation for ml/kg\n",
    "    A1 = -177.0212\n",
    "    A2 = 254.6078\n",
    "    A3 = 146.3611 \n",
    "    A4 = -22.0933\n",
    "    B1 = -0.054052 \n",
    "    B2 = 0.027266\n",
    "    B3 = -0.0038430\n",
    "    \n",
    "    ml_per_kg_to_mmol_per_m3 = 1 / 22.4 * rho_ref * 1e3 \n",
    "\n",
    "    return np.exp(A1 + A2*(100.0/Tabs) + A3*np.log(Tabs/100) + A4*(Tabs/100) + S*(B1 + B2*(Tabs/100.0) + B3*(Tabs/100.0)**2)) * ml_per_kg_to_mmol_per_m3"
   ]
  },
  {
   "cell_type": "code",
   "execution_count": 64,
   "id": "initial-diana",
   "metadata": {},
   "outputs": [
    {
     "data": {
      "text/plain": [
       "489.16153439690214"
      ]
     },
     "execution_count": 64,
     "metadata": {},
     "output_type": "execute_result"
    }
   ],
   "source": [
    "N2solWeiss(35,10)"
   ]
  },
  {
   "cell_type": "code",
   "execution_count": 66,
   "id": "democratic-barrel",
   "metadata": {},
   "outputs": [],
   "source": [
    "def O2sol(S, T):\n",
    "    \"\"\"\n",
    "    Solubility of O2 in sea water\n",
    "    INPUT:\n",
    "    S = salinity    [PSS]\n",
    "    T = temperature [degree C]\n",
    "\n",
    "    conc = solubility of O2 [µmol/kg]\n",
    "\n",
    "    REFERENCE:\n",
    "    Hernan E. Garcia and Louis I. Gordon, 1992.\n",
    "    \"Oxygen solubility in seawater: Better fitting equations\"\n",
    "    Limnology and Oceanography, 37, pp. 1307-1312.\n",
    "    \"\"\"\n",
    " \n",
    "    return _garcia_gordon_polynomial(S, T,\n",
    "                                     A0=5.80871,\n",
    "                                     A1=3.20291,\n",
    "                                     A2=4.17887,\n",
    "                                     A3=5.10006,\n",
    "                                     A4=-9.86643e-2,\n",
    "                                     A5=3.80369,\n",
    "                                     B0=-7.01577e-3,\n",
    "                                     B1=-7.70028e-3,\n",
    "                                     B2=-1.13864e-2,\n",
    "                                     B3=-9.51519e-3,\n",
    "                                     C0=-2.75915e-7)\n",
    "\n",
    "\n",
    "def _garcia_gordon_polynomial(S, T,\n",
    "                              A0=0., A1 = 0., A2 = 0., A3=0., A4=0., A5=0.,\n",
    "                              B0=0., B1=0., B2=0., B3=0.,\n",
    "                              C0=0.):\n",
    "\n",
    "    T_scaled = np.log((298.15 - T) /(T0_Kelvin + T))\n",
    "    return np.exp(A0 + A1*T_scaled + A2*T_scaled**2. + A3*T_scaled**3. + A4*T_scaled**4. + A5*T_scaled**5. + \\\n",
    "                  S*(B0 + B1*T_scaled + B2*T_scaled**2. + B3*T_scaled**3.) + C0 * S**2.)"
   ]
  },
  {
   "cell_type": "code",
   "execution_count": 67,
   "id": "still-patio",
   "metadata": {},
   "outputs": [
    {
     "ename": "NameError",
     "evalue": "name 'T0_Kelvin' is not defined",
     "output_type": "error",
     "traceback": [
      "\u001b[0;31m---------------------------------------------------------------------------\u001b[0m",
      "\u001b[0;31mNameError\u001b[0m                                 Traceback (most recent call last)",
      "\u001b[0;32m<ipython-input-67-6c86f79c3c15>\u001b[0m in \u001b[0;36m<module>\u001b[0;34m\u001b[0m\n\u001b[0;32m----> 1\u001b[0;31m \u001b[0mO2sol\u001b[0m\u001b[0;34m(\u001b[0m\u001b[0;36m35\u001b[0m\u001b[0;34m,\u001b[0m\u001b[0;36m10\u001b[0m\u001b[0;34m)\u001b[0m\u001b[0;34m\u001b[0m\u001b[0;34m\u001b[0m\u001b[0m\n\u001b[0m",
      "\u001b[0;32m<ipython-input-66-4c4a720f9897>\u001b[0m in \u001b[0;36mO2sol\u001b[0;34m(S, T)\u001b[0m\n\u001b[1;32m     25\u001b[0m                                      \u001b[0mB2\u001b[0m\u001b[0;34m=\u001b[0m\u001b[0;34m-\u001b[0m\u001b[0;36m1.13864e-2\u001b[0m\u001b[0;34m,\u001b[0m\u001b[0;34m\u001b[0m\u001b[0;34m\u001b[0m\u001b[0m\n\u001b[1;32m     26\u001b[0m                                      \u001b[0mB3\u001b[0m\u001b[0;34m=\u001b[0m\u001b[0;34m-\u001b[0m\u001b[0;36m9.51519e-3\u001b[0m\u001b[0;34m,\u001b[0m\u001b[0;34m\u001b[0m\u001b[0;34m\u001b[0m\u001b[0m\n\u001b[0;32m---> 27\u001b[0;31m                                      C0=-2.75915e-7)\n\u001b[0m\u001b[1;32m     28\u001b[0m \u001b[0;34m\u001b[0m\u001b[0m\n\u001b[1;32m     29\u001b[0m \u001b[0;34m\u001b[0m\u001b[0m\n",
      "\u001b[0;32m<ipython-input-66-4c4a720f9897>\u001b[0m in \u001b[0;36m_garcia_gordon_polynomial\u001b[0;34m(S, T, A0, A1, A2, A3, A4, A5, B0, B1, B2, B3, C0)\u001b[0m\n\u001b[1;32m     33\u001b[0m                               C0=0.):\n\u001b[1;32m     34\u001b[0m \u001b[0;34m\u001b[0m\u001b[0m\n\u001b[0;32m---> 35\u001b[0;31m     \u001b[0mT_scaled\u001b[0m \u001b[0;34m=\u001b[0m \u001b[0mnp\u001b[0m\u001b[0;34m.\u001b[0m\u001b[0mlog\u001b[0m\u001b[0;34m(\u001b[0m\u001b[0;34m(\u001b[0m\u001b[0;36m298.15\u001b[0m \u001b[0;34m-\u001b[0m \u001b[0mT\u001b[0m\u001b[0;34m)\u001b[0m \u001b[0;34m/\u001b[0m\u001b[0;34m(\u001b[0m\u001b[0mT0_Kelvin\u001b[0m \u001b[0;34m+\u001b[0m \u001b[0mT\u001b[0m\u001b[0;34m)\u001b[0m\u001b[0;34m)\u001b[0m\u001b[0;34m\u001b[0m\u001b[0;34m\u001b[0m\u001b[0m\n\u001b[0m\u001b[1;32m     36\u001b[0m     return np.exp(A0 + A1*T_scaled + A2*T_scaled**2. + A3*T_scaled**3. + A4*T_scaled**4. + A5*T_scaled**5. + \\\n\u001b[1;32m     37\u001b[0m                   S*(B0 + B1*T_scaled + B2*T_scaled**2. + B3*T_scaled**3.) + C0 * S**2.)\n",
      "\u001b[0;31mNameError\u001b[0m: name 'T0_Kelvin' is not defined"
     ]
    }
   ],
   "source": [
    "O2sol(35,10)"
   ]
  },
  {
   "cell_type": "code",
   "execution_count": 69,
   "id": "descending-survey",
   "metadata": {},
   "outputs": [
    {
     "data": {
      "text/plain": [
       "274.60983194242624"
      ]
     },
     "execution_count": 69,
     "metadata": {},
     "output_type": "execute_result"
    }
   ],
   "source": [
    "T0_Kelvin = 273.15\n",
    "O2sol(35,10)"
   ]
  },
  {
   "cell_type": "code",
   "execution_count": 72,
   "id": "transparent-luther",
   "metadata": {},
   "outputs": [
    {
     "data": {
      "text/plain": [
       "2629800.0"
      ]
     },
     "execution_count": 72,
     "metadata": {},
     "output_type": "execute_result"
    }
   ],
   "source": [
    "seconds_per_month = 86400 * 365.25 / 12\n",
    "seconds_per_month"
   ]
  },
  {
   "cell_type": "code",
   "execution_count": null,
   "id": "married-hometown",
   "metadata": {},
   "outputs": [],
   "source": []
  }
 ],
 "metadata": {
  "kernelspec": {
   "display_name": "Python [conda env:miniconda3-sno]",
   "language": "python",
   "name": "conda-env-miniconda3-sno-py"
  },
  "language_info": {
   "codemirror_mode": {
    "name": "ipython",
    "version": 3
   },
   "file_extension": ".py",
   "mimetype": "text/x-python",
   "name": "python",
   "nbconvert_exporter": "python",
   "pygments_lexer": "ipython3",
   "version": "3.7.10"
  }
 },
 "nbformat": 4,
 "nbformat_minor": 5
}
